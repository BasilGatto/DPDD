{
  "nbformat": 4,
  "nbformat_minor": 0,
  "metadata": {
    "colab": {
      "provenance": [],
      "authorship_tag": "ABX9TyO0Mzu1yMkq7C7EPuk2gCml",
      "include_colab_link": true
    },
    "kernelspec": {
      "name": "python3",
      "display_name": "Python 3"
    },
    "language_info": {
      "name": "python"
    }
  },
  "cells": [
    {
      "cell_type": "markdown",
      "metadata": {
        "id": "view-in-github",
        "colab_type": "text"
      },
      "source": [
        "<a href=\"https://colab.research.google.com/github/dinikap/DPDD/blob/main/student.ipynb\" target=\"_parent\"><img src=\"https://colab.research.google.com/assets/colab-badge.svg\" alt=\"Open In Colab\"/></a>"
      ]
    },
    {
      "cell_type": "markdown",
      "source": [
        "# DPDD Year 2 Software Design & Development\n",
        "\n",
        "Rock Pi Practical 1 – Using terminal and making a small program in Python\n",
        "\n",
        "Scenario:\n",
        "\n",
        "We will like to create a basic Python program on students. The program should be able to do the following:\n",
        "\n",
        "*\tStore student information: First name, Last name, Student ID, Age, Grade\n",
        "\n",
        "*\tCourse enrollment: Course ID, Course Name\n",
        "\n",
        "*\tGrade Calculator: Calculate the average grades based on the modules taken by the student\n",
        "\n",
        "*\tAttendance Tracking: This records the student’s attendance for each module in percentage (%)\n",
        "\n",
        "The program should define a class for students and you should create separate functions."
      ],
      "metadata": {
        "id": "viqUdBViXbc4"
      }
    },
    {
      "cell_type": "code",
      "execution_count": null,
      "metadata": {
        "id": "N8cRZvh0XW81"
      },
      "outputs": [],
      "source": [
        "class Student:\n",
        "  def __int__(self, first_name, last_name, student_id, age, grade):\n",
        "    #define initialisation - the first one has been done for you\n",
        "    self.first_name = first_name\n",
        "    #create an array to store the courses\n",
        "    self.courses = []\n",
        "    self.attendance = {}\n",
        "\n",
        "  #function for course enrolled\n",
        "  def course_enrollment(self, course):\n",
        "    self.courses.append(course)\n",
        "\n",
        "  #function for calculating the total grades. this should return the average grade\n",
        "  def calculate_average_grade(self):\n",
        "    total_grades = sum(grade)\n",
        "    amount = len(grade)\n,
        "    average = (total_grade / amount),
        "    return average\n",
        "\n",
        "  #function for recording the attendance\n",
        "  def record_attendance(self, course, attendance):\n",
        "    self.attendance[course] = attendance\n",
        "\n",
        "class Course:\n",
        "  def __init__(self, course_name, course_id):\n",
        "    #define initialisation - the first one has been done for you\n",
        "    self.course_name = course_name\n",
        "    return self.course_name\n",
        "\n",
        "  # function to add students\n",
        "  def add_student(self, student):\n",
        "    self.students.append(student)\n",
        "    student.course_enrollment(self)\n",
        "\n",
        "  #function to add grades\n",
        "  def assign_grade(sefl, student, grade):\n",
        "    self.grades[student] = grade\n",
        "\n"
      ]
    },
    {
      "cell_type": "markdown",
      "source": [
        "Example test cases:\n",
        "\n",
        "```\n",
        "# Create students and courses\n",
        "student1 = Student(\"Alice\", \"Smith\", \"S123509\", 17, 88)\n",
        "student2 = Student(\"Bob\", \"Taylor\", \"S124500\", 18, 90)\n",
        "course1 = Course(\"L3 IT\", \"Data\")\n",
        "course2 = Course(\"T Level DPDD\", \"Software\")\n",
        "\n",
        "# Enroll students in courses\n",
        "course1.add_student(student1)\n",
        "course1.add_student(student2)\n",
        "course2.add_student(student1)\n",
        "\n",
        "# Assign grades and record attendance\n",
        "course1.assign_grade(student1, 95)\n",
        "course1.assign_grade(student2, 85)\n",
        "course2.assign_grade(student1, 90)\n",
        "student1.record_attendance(course1, True)\n",
        "student1.record_attendance(course2, False)\n",
        "\n",
        "# Calculate average grade\n",
        "print(student1.calculate_average_grade())\n",
        "\n",
        "```\n",
        "\n"
      ],
      "metadata": {
        "id": "Y2ygWZphXhgt"
      }
    },
    {
      "cell_type": "markdown",
      "source": [
        "# Stretch & Challenge\n",
        "\n",
        "\n",
        "\n",
        "*   Change your class definitions to take in a user input instead\n",
        "*   Add a new criteria for calculating grades where each module holds a different number of credits\n",
        "*  Create a gradebook interface for students to view their grades and attendance.\n",
        "*  Create an output using pandas and matplotlib which will visualised\n",
        "\n"
      ],
      "metadata": {
        "id": "c0K6PbngXkrf"
      }
    }
  ]
}
