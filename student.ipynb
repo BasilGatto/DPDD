{
  "cells": [
    {
      "cell_type": "markdown",
      "metadata": {
        "colab_type": "text",
        "id": "view-in-github"
      },
      "source": [
        "<a href=\"https://colab.research.google.com/github/dinikap/DPDD/blob/main/student.ipynb\" target=\"_parent\"><img src=\"https://colab.research.google.com/assets/colab-badge.svg\" alt=\"Open In Colab\"/></a>"
      ]
    },
    {
      "cell_type": "markdown",
      "metadata": {
        "id": "viqUdBViXbc4"
      },
      "source": [
        "# DPDD Year 2 Software Design & Development\n",
        "\n",
        "Rock Pi Practical 1 – Using terminal and making a small program in Python\n",
        "\n",
        "Scenario:\n",
        "\n",
        "We will like to create a basic Python program on students. The program should be able to do the following:\n",
        "\n",
        "*\tStore student information: First name, Last name, Student ID, Age, Grade\n",
        "\n",
        "*\tCourse enrollment: Course ID, Course Name\n",
        "\n",
        "*\tGrade Calculator: Calculate the average grades based on the modules taken by the student\n",
        "\n",
        "*\tAttendance Tracking: This records the student’s attendance for each module in percentage (%)\n",
        "\n",
        "The program should define a class for students and you should create separate functions."
      ]
    },
    {
      "cell_type": "code",
      "execution_count": null,
      "metadata": {
        "id": "N8cRZvh0XW81"
      },
      "outputs": [
        {
          "ename": "",
          "evalue": "",
          "output_type": "error",
          "traceback": [
            "\u001b[1;31mRunning cells with 'Python 3.10.2 64-bit' requires ipykernel package.\n",
            "\u001b[1;31mRun the following command to install 'ipykernel' into the Python environment. \n",
            "\u001b[1;31mCommand: '\"c:/Program Files/Python310/python.exe\" -m pip install ipykernel -U --user --force-reinstall'"
          ]
        }
      ],
      "source": [
        "class Student:\n",
        "  def __int__(self, first_name, last_name, student_id, age, grade):\n",
        "    #define initialisation - the first one has been done for you\n",
        "    first_name = str(first_name)\n",
        "    last_name = str(last_name)\n",
        "    student_id = int(student_id)\n",
        "    age = int(age)\n",
        "    grade = any(grade)\n",
        "    self.first_name = input(\"Please put your name here\")\n",
        "    \n",
        "    self.last_name = input(\"Enter Lastname\")\n",
        "    #create an array to store the courses\n",
        "    self.courses = []\n",
        "    self.courses = input(\"Please put course name here\")\n",
        "    self.attendance = {}\n",
        "    flag = False\n",
        "    while flag is False:\n",
        "      self.attendance = input(\"Please put your attendence here, note: do no enter \"%\", numberical data only\")\n",
        "      try:\n",
        "        value_check = float(self.attendance)\n",
        "        if value_check == float:\n",
        "          flag = True\n",
        "        else:\n",
        "          print(\"Invalid attendence entry try again\")\n",
        "      except ValueError:\n",
        "        print(\"not a valid data entry\")\n",
        "      \n",
        "       \n",
        "\n",
        "  #function for course enrolled\n",
        "  def course_enrollment(self, course):\n",
        "    self.courses.append(course)\n",
        "    return self.courses\n",
        "    \n",
        "\n",
        "  #function for calculating the total grades. this should return the average grade\n",
        "  def calculate_average_grade(self,grade):\n",
        "    total_grades = sum(grade)\n",
        "    amount = len(grade)\n",
        "    average = (total_grades / amount)\n",
        "    return average\n",
        "\n",
        "  #function for recording the attendance\n",
        "  def record_attendance(self, course, attendance):\n",
        "    self.attendance[course] = attendance\n",
        "\n",
        "class Course:\n",
        "  def __init__(self, course_name, course_id):\n",
        "    #define initialisation - the first one has been done for you\n",
        "    self.course_name = course_name\n",
        "    return self.course_name\n",
        "\n",
        "  # function to add students\n",
        "  def add_student(self, student):\n",
        "    self.students.append(student)\n",
        "    student.course_enrollment(self)\n",
        "\n",
        "  #function to add grades\n",
        "  def assign_grade(self, student, grade):\n",
        "    self.grades[student] = grade\n",
        "    return self.grades\n",
        "\n",
        "\n"
      ]
    },
    {
      "cell_type": "markdown",
      "metadata": {
        "id": "Y2ygWZphXhgt"
      },
      "source": [
        "Example test cases:\n",
        "\n",
        "```\n",
        "# Create students and courses\n",
        "student1 = Student(\"Alice\", \"Smith\", \"S123509\", 17, 88)\n",
        "student2 = Student(\"Bob\", \"Taylor\", \"S124500\", 18, 90)\n",
        "course1 = Course(\"L3 IT\", \"Data\")\n",
        "course2 = Course(\"T Level DPDD\", \"Software\")\n",
        "\n",
        "# Enroll students in courses\n",
        "course1.add_student(student1)\n",
        "course1.add_student(student2)\n",
        "course2.add_student(student1)\n",
        "\n",
        "# Assign grades and record attendance\n",
        "course1.assign_grade(student1, 95)\n",
        "course1.assign_grade(student2, 85)\n",
        "course2.assign_grade(student1, 90)\n",
        "student1.record_attendance(course1, True)\n",
        "student1.record_attendance(course2, False)\n",
        "\n",
        "# Calculate average grade\n",
        "print(student1.calculate_average_grade())\n",
        "\n",
        "```\n",
        "\n"
      ]
    },
    {
      "cell_type": "markdown",
      "metadata": {
        "id": "c0K6PbngXkrf"
      },
      "source": [
        "# Stretch & Challenge\n",
        "\n",
        "\n",
        "\n",
        "*   Change your class definitions to take in a user input instead\n",
        "*   Add a new criteria for calculating grades where each module holds a different number of credits\n",
        "*  Create a gradebook interface for students to view their grades and attendance.\n",
        "*  Create an output using pandas and matplotlib which will visualised\n",
        "\n"
      ]
    }
  ],
  "metadata": {
    "colab": {
      "authorship_tag": "ABX9TyO0Mzu1yMkq7C7EPuk2gCml",
      "include_colab_link": true,
      "provenance": []
    },
    "kernelspec": {
      "display_name": "Python 3.10.2 64-bit",
      "language": "python",
      "name": "python3"
    },
    "language_info": {
      "name": "python",
      "version": "3.10.2"
    },
    "vscode": {
      "interpreter": {
        "hash": "26de051ba29f2982a8de78e945f0abaf191376122a1563185a90213a26c5da77"
      }
    }
  },
  "nbformat": 4,
  "nbformat_minor": 0
}
